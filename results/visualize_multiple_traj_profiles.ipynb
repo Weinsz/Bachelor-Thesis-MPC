{
 "cells": [
  {
   "cell_type": "markdown",
   "metadata": {},
   "source": [
    "# Profili di corsa per Spa"
   ]
  },
  {
   "cell_type": "code",
   "execution_count": 43,
   "metadata": {},
   "outputs": [],
   "source": [
    "import matplotlib.pyplot as plt\n",
    "import pandas as pd\n",
    "import yaml\n",
    "import numpy as np\n",
    "import os\n",
    "from PIL import Image\n",
    "import glob\n",
    "%matplotlib inline"
   ]
  },
  {
   "cell_type": "code",
   "execution_count": 44,
   "metadata": {},
   "outputs": [],
   "source": [
    "# Select map\n",
    "MAP_NAME = \"Spa_map\""
   ]
  },
  {
   "cell_type": "code",
   "execution_count": 45,
   "metadata": {},
   "outputs": [
    {
     "name": "stdout",
     "output_type": "stream",
     "text": [
      "[0]: /home/weins/sim_ws/csv/pp_spa_controls_out.csv\n",
      "[1]: /home/weins/sim_ws/csv/mpc_spa_hp_final_out.csv\n",
      "[2]: /home/weins/sim_ws/csv/mpc_spa_hp_controls_out.csv\n",
      "[3]: /home/weins/sim_ws/csv/mpc_spa_fast_final_out.csv\n",
      "[4]: /home/weins/sim_ws/csv/mpc_spa_safe_controls_out.csv\n",
      "[5]: /home/weins/sim_ws/csv/spa_pp_final_out.csv\n",
      "[6]: /home/weins/sim_ws/csv/mpc_spa_safe_final_out.csv\n",
      "[7]: /home/weins/sim_ws/csv/traj_race_spa_v2.csv\n",
      "[8]: /home/weins/sim_ws/csv/traj_race_spa.csv\n",
      "[9]: /home/weins/sim_ws/csv/spa_mpc_final_out.csv\n",
      "[10]: /home/weins/sim_ws/csv/trajrace_pp_spa.csv\n",
      "[11]: /home/weins/sim_ws/csv/mpc_spa_fast_controls_out.csv\n",
      "[12]: /home/weins/sim_ws/csv/pp_spa_final_out.csv\n"
     ]
    }
   ],
   "source": [
    "csv_files = glob.glob(f'/home/weins/sim_ws/csv/*spa*', recursive=False)\n",
    "for i, x in enumerate(csv_files):\n",
    "    print(f\"[{i}]: {x}\")"
   ]
  },
  {
   "cell_type": "code",
   "execution_count": 46,
   "metadata": {},
   "outputs": [],
   "source": [
    "# Select file index for 'mintime', 'mincurv', 'shortest_path', 'centerline'\n",
    "ref, pp, hp, fast, safe = 7, 12, 1, 3, 6"
   ]
  },
  {
   "cell_type": "code",
   "execution_count": 47,
   "metadata": {},
   "outputs": [],
   "source": [
    "ref_df = pd.read_csv(csv_files[ref], names=['x', 'y', 'theta', 'speed'], sep=',')\n",
    "pp_df = pd.read_csv(csv_files[pp], sep=',')\n",
    "hp_df = pd.read_csv(csv_files[hp], sep=',')\n",
    "fast_df = pd.read_csv(csv_files[fast], sep=',')\n",
    "safe_df = pd.read_csv(csv_files[safe], sep=',')\n",
    "\n",
    "data = [\n",
    "    (ref_df, '#e7298a', 'Raceline'),#(ref_df, 'red', 'Raceline'),\n",
    "    (pp_df, '#1b9e77', 'Pure Pursuit'), #(pp_df, 'sienna', 'Pure Pursuit'),\n",
    "    (hp_df, '#e6ab02', 'MPC High Performance'), #(hp_df, 'orange', 'MPC High Performance'), \n",
    "    (fast_df, '#d95f02', 'MPC Fast'), #(fast_df, 'blue', 'MPC Fast'),  # lightblue\n",
    "    (safe_df, '#7570b3', 'MPC Safe') #(safe_df, 'green', 'MPC Safe')\n",
    "]"
   ]
  },
  {
   "cell_type": "code",
   "execution_count": 48,
   "metadata": {},
   "outputs": [
    {
     "data": {
      "text/html": [
       "<div>\n",
       "<style scoped>\n",
       "    .dataframe tbody tr th:only-of-type {\n",
       "        vertical-align: middle;\n",
       "    }\n",
       "\n",
       "    .dataframe tbody tr th {\n",
       "        vertical-align: top;\n",
       "    }\n",
       "\n",
       "    .dataframe thead th {\n",
       "        text-align: right;\n",
       "    }\n",
       "</style>\n",
       "<table border=\"1\" class=\"dataframe\">\n",
       "  <thead>\n",
       "    <tr style=\"text-align: right;\">\n",
       "      <th></th>\n",
       "      <th>x</th>\n",
       "      <th>y</th>\n",
       "      <th>theta</th>\n",
       "      <th>speed</th>\n",
       "    </tr>\n",
       "  </thead>\n",
       "  <tbody>\n",
       "    <tr>\n",
       "      <th>0</th>\n",
       "      <td>11.175317</td>\n",
       "      <td>-66.022806</td>\n",
       "      <td>-0.377448</td>\n",
       "      <td>10.267294</td>\n",
       "    </tr>\n",
       "    <tr>\n",
       "      <th>1</th>\n",
       "      <td>11.230135</td>\n",
       "      <td>-65.883709</td>\n",
       "      <td>-0.373357</td>\n",
       "      <td>10.251275</td>\n",
       "    </tr>\n",
       "    <tr>\n",
       "      <th>2</th>\n",
       "      <td>11.284422</td>\n",
       "      <td>-65.744271</td>\n",
       "      <td>-0.369176</td>\n",
       "      <td>10.235257</td>\n",
       "    </tr>\n",
       "    <tr>\n",
       "      <th>3</th>\n",
       "      <td>11.338161</td>\n",
       "      <td>-65.604497</td>\n",
       "      <td>-0.364904</td>\n",
       "      <td>10.219238</td>\n",
       "    </tr>\n",
       "    <tr>\n",
       "      <th>4</th>\n",
       "      <td>11.391333</td>\n",
       "      <td>-65.464394</td>\n",
       "      <td>-0.360540</td>\n",
       "      <td>10.203220</td>\n",
       "    </tr>\n",
       "    <tr>\n",
       "      <th>...</th>\n",
       "      <td>...</td>\n",
       "      <td>...</td>\n",
       "      <td>...</td>\n",
       "      <td>...</td>\n",
       "    </tr>\n",
       "    <tr>\n",
       "      <th>3635</th>\n",
       "      <td>10.949108</td>\n",
       "      <td>-66.579835</td>\n",
       "      <td>-0.394222</td>\n",
       "      <td>10.436610</td>\n",
       "    </tr>\n",
       "    <tr>\n",
       "      <th>3636</th>\n",
       "      <td>11.006471</td>\n",
       "      <td>-66.441106</td>\n",
       "      <td>-0.389941</td>\n",
       "      <td>10.436610</td>\n",
       "    </tr>\n",
       "    <tr>\n",
       "      <th>3637</th>\n",
       "      <td>11.063287</td>\n",
       "      <td>-66.302025</td>\n",
       "      <td>-0.385718</td>\n",
       "      <td>10.436610</td>\n",
       "    </tr>\n",
       "    <tr>\n",
       "      <th>3638</th>\n",
       "      <td>11.119566</td>\n",
       "      <td>-66.162592</td>\n",
       "      <td>-0.381553</td>\n",
       "      <td>10.436610</td>\n",
       "    </tr>\n",
       "    <tr>\n",
       "      <th>3639</th>\n",
       "      <td>11.175317</td>\n",
       "      <td>-66.022806</td>\n",
       "      <td>-0.377448</td>\n",
       "      <td>10.267294</td>\n",
       "    </tr>\n",
       "  </tbody>\n",
       "</table>\n",
       "<p>3640 rows × 4 columns</p>\n",
       "</div>"
      ],
      "text/plain": [
       "              x          y     theta      speed\n",
       "0     11.175317 -66.022806 -0.377448  10.267294\n",
       "1     11.230135 -65.883709 -0.373357  10.251275\n",
       "2     11.284422 -65.744271 -0.369176  10.235257\n",
       "3     11.338161 -65.604497 -0.364904  10.219238\n",
       "4     11.391333 -65.464394 -0.360540  10.203220\n",
       "...         ...        ...       ...        ...\n",
       "3635  10.949108 -66.579835 -0.394222  10.436610\n",
       "3636  11.006471 -66.441106 -0.389941  10.436610\n",
       "3637  11.063287 -66.302025 -0.385718  10.436610\n",
       "3638  11.119566 -66.162592 -0.381553  10.436610\n",
       "3639  11.175317 -66.022806 -0.377448  10.267294\n",
       "\n",
       "[3640 rows x 4 columns]"
      ]
     },
     "execution_count": 48,
     "metadata": {},
     "output_type": "execute_result"
    }
   ],
   "source": [
    "ref_df"
   ]
  },
  {
   "cell_type": "code",
   "execution_count": 49,
   "metadata": {},
   "outputs": [],
   "source": [
    "# Overlay the racetrack on the map\n",
    "# load map yaml\n",
    "if os.path.exists(f\"/home/weins/sim_ws/src/f1tenth_gym_ros/maps/{MAP_NAME}.png\"):\n",
    "    map_img_path = f\"/home/weins/sim_ws/src/f1tenth_gym_ros/maps/{MAP_NAME}.png\"\n",
    "else:\n",
    "    raise Exception(\"Map not found!\")\n",
    "\n",
    "map_yaml_path = f\"/home/weins/sim_ws/src/f1tenth_gym_ros/maps/{MAP_NAME}.yaml\"\n",
    "with open(map_yaml_path, 'r') as yaml_stream:\n",
    "    try:\n",
    "        map_metadata = yaml.safe_load(yaml_stream)\n",
    "        map_resolution = map_metadata['resolution']\n",
    "        origin = map_metadata['origin']\n",
    "    except yaml.YAMLError as ex:\n",
    "        print(ex)\n",
    "\n",
    "# calculate map parameters\n",
    "orig_x = origin[0]\n",
    "orig_y = origin[1]\n",
    "# ??? Should be 0>\n",
    "orig_s = np.sin(origin[2])\n",
    "orig_c = np.cos(origin[2])\n",
    "\n",
    "def transf(raw):\n",
    "    # get the distance transform\n",
    "    transformed_data = raw.copy()\n",
    "    transformed_data -= np.array([orig_x, orig_y] + [0]*(len(raw.columns)-2))\n",
    "    transformed_data.iloc[:, :2] /= map_resolution\n",
    "    return transformed_data\n",
    "\n",
    "raw_map_img = np.array(Image.open(map_img_path).transpose(Image.FLIP_TOP_BOTTOM))\n",
    "raw_map_img = raw_map_img.astype(np.float64)\n",
    "\n",
    "transf_data = []\n",
    "for raw in data:\n",
    "    transf_data.append( (transf(raw[0]), raw[1], raw[2]) )"
   ]
  },
  {
   "cell_type": "code",
   "execution_count": 50,
   "metadata": {},
   "outputs": [],
   "source": [
    "# Image resolution\n",
    "size = 12"
   ]
  },
  {
   "cell_type": "code",
   "execution_count": 51,
   "metadata": {},
   "outputs": [
    {
     "data": {
      "text/plain": [
       "(-0.5, 1999.5, -0.5, 1999.5)"
      ]
     },
     "execution_count": 51,
     "metadata": {},
     "output_type": "execute_result"
    },
    {
     "name": "stderr",
     "output_type": "stream",
     "text": [
      "kf.kio.widgets.kdirmodel: No node found for item that was just removed: QUrl(\"file:///home/weins/Documents/Grafici/MPC and PP/Lap Time Comparisons Monza.png\")\n",
      "kf.kio.widgets.kdirmodel: No node found for item that was just removed: QUrl(\"file:///home/weins/Documents/Grafici/MPC and PP/Lap Time Comparisons Monza.png\")\n"
     ]
    }
   ],
   "source": [
    "%matplotlib qt\n",
    "plt.figure(figsize=(size, size))\n",
    "for d, c, l in transf_data:\n",
    "    plt.plot(d.loc[:, 'x'].to_numpy(), d.loc[:, 'y'].to_numpy(), c = c, label=l) #, c=transformed_data.loc[:, i], marker=\".\", s=3)\n",
    "    #plt.scatter(d.loc[:, 'x'].to_numpy(), d.loc[:, 'y'].to_numpy(), c = c, s=2) #, c=transformed_data.loc[:, i], marker=\".\", s=3)\n",
    "#plt.scatter(transformed_data.loc[0, 'x'], transformed_data.loc[0, 'y'], c='red', marker=(3,0,transformed_data.loc[0, 'a']*180/3.1415), s=200)\n",
    "\n",
    "#plt.xlim(transf_data[0].iloc[:, 0].min() - 100, transf_data[0].iloc[:, 0].max() + 100)\n",
    "#plt.ylim(transf_data[0].iloc[:, 1].min() - 100, transf_data[0].iloc[:, 1].max() + 100)\n",
    "plt.imshow(raw_map_img, cmap='gray', origin='lower')\n",
    "plt.legend(fontsize=16)\n",
    "plt.axis('off')"
   ]
  },
  {
   "cell_type": "markdown",
   "metadata": {},
   "source": [
    "## Monza"
   ]
  },
  {
   "cell_type": "code",
   "execution_count": 35,
   "metadata": {},
   "outputs": [],
   "source": [
    "# Select map\n",
    "MAP_NAME = \"Monza_map\""
   ]
  },
  {
   "cell_type": "code",
   "execution_count": 36,
   "metadata": {},
   "outputs": [
    {
     "name": "stdout",
     "output_type": "stream",
     "text": [
      "[0]: /home/weins/sim_ws/csv/mpc_monza_safe_final_out.csv\n",
      "[1]: /home/weins/sim_ws/csv/traj_race_monza_v2.csv\n",
      "[2]: /home/weins/sim_ws/csv/monza_mpc_final_out.csv\n",
      "[3]: /home/weins/sim_ws/csv/trajrace_pp_monza.csv\n",
      "[4]: /home/weins/sim_ws/csv/mpc_monza_hp_final_out.csv\n",
      "[5]: /home/weins/sim_ws/csv/monza_pp_final_out.csv\n",
      "[6]: /home/weins/sim_ws/csv/mpc_monza_hp_controls_out.csv\n",
      "[7]: /home/weins/sim_ws/csv/mpc_monza_fast_controls_out.csv\n",
      "[8]: /home/weins/sim_ws/csv/pp_monza_controls_out.csv\n",
      "[9]: /home/weins/sim_ws/csv/mpc_monza_fast_final_out.csv\n",
      "[10]: /home/weins/sim_ws/csv/mpc_monza_safe_controls_out.csv\n",
      "[11]: /home/weins/sim_ws/csv/pp_monza_final_out.csv\n",
      "[12]: /home/weins/sim_ws/csv/traj_race_monza.csv\n"
     ]
    }
   ],
   "source": [
    "csv_files = glob.glob(f'/home/weins/sim_ws/csv/*monza*', recursive=False)\n",
    "for i, x in enumerate(csv_files):\n",
    "    print(f\"[{i}]: {x}\")"
   ]
  },
  {
   "cell_type": "code",
   "execution_count": 37,
   "metadata": {},
   "outputs": [],
   "source": [
    "# Select file index for 'mintime', 'mincurv', 'shortest_path', 'centerline'\n",
    "ref, pp, hp, fast, safe = 1, 11, 4, 9, 0"
   ]
  },
  {
   "cell_type": "code",
   "execution_count": 38,
   "metadata": {},
   "outputs": [],
   "source": [
    "ref_df = pd.read_csv(csv_files[ref], names=['x', 'y', 'theta', 'speed'], sep=',')\n",
    "pp_df = pd.read_csv(csv_files[pp], sep=',')\n",
    "hp_df = pd.read_csv(csv_files[hp], sep=',')\n",
    "fast_df = pd.read_csv(csv_files[fast], sep=',')\n",
    "safe_df = pd.read_csv(csv_files[safe], sep=',')\n",
    "\n",
    "data = [\n",
    "    (ref_df, 'red', 'Raceline'),\n",
    "    (pp_df, 'sienna', 'Pure Pursuit'),\n",
    "    (hp_df, 'orange', 'MPC High Performance'), \n",
    "    (fast_df, 'blue', 'MPC Fast'),  # lightblue\n",
    "    (safe_df, 'green', 'MPC Safe')\n",
    "]"
   ]
  },
  {
   "cell_type": "code",
   "execution_count": 39,
   "metadata": {},
   "outputs": [
    {
     "data": {
      "text/html": [
       "<div>\n",
       "<style scoped>\n",
       "    .dataframe tbody tr th:only-of-type {\n",
       "        vertical-align: middle;\n",
       "    }\n",
       "\n",
       "    .dataframe tbody tr th {\n",
       "        vertical-align: top;\n",
       "    }\n",
       "\n",
       "    .dataframe thead th {\n",
       "        text-align: right;\n",
       "    }\n",
       "</style>\n",
       "<table border=\"1\" class=\"dataframe\">\n",
       "  <thead>\n",
       "    <tr style=\"text-align: right;\">\n",
       "      <th></th>\n",
       "      <th>x</th>\n",
       "      <th>y</th>\n",
       "      <th>theta</th>\n",
       "      <th>speed</th>\n",
       "    </tr>\n",
       "  </thead>\n",
       "  <tbody>\n",
       "    <tr>\n",
       "      <th>0</th>\n",
       "      <td>2.811887</td>\n",
       "      <td>33.892912</td>\n",
       "      <td>3.054638</td>\n",
       "      <td>12.547317</td>\n",
       "    </tr>\n",
       "    <tr>\n",
       "      <th>1</th>\n",
       "      <td>2.798863</td>\n",
       "      <td>33.743580</td>\n",
       "      <td>3.054567</td>\n",
       "      <td>12.562538</td>\n",
       "    </tr>\n",
       "    <tr>\n",
       "      <th>2</th>\n",
       "      <td>2.785829</td>\n",
       "      <td>33.594237</td>\n",
       "      <td>3.054500</td>\n",
       "      <td>12.577760</td>\n",
       "    </tr>\n",
       "    <tr>\n",
       "      <th>3</th>\n",
       "      <td>2.772783</td>\n",
       "      <td>33.444884</td>\n",
       "      <td>3.054437</td>\n",
       "      <td>12.592982</td>\n",
       "    </tr>\n",
       "    <tr>\n",
       "      <th>4</th>\n",
       "      <td>2.759728</td>\n",
       "      <td>33.295520</td>\n",
       "      <td>3.054377</td>\n",
       "      <td>12.608203</td>\n",
       "    </tr>\n",
       "    <tr>\n",
       "      <th>...</th>\n",
       "      <td>...</td>\n",
       "      <td>...</td>\n",
       "      <td>...</td>\n",
       "      <td>...</td>\n",
       "    </tr>\n",
       "    <tr>\n",
       "      <th>2939</th>\n",
       "      <td>2.863912</td>\n",
       "      <td>34.490694</td>\n",
       "      <td>3.054919</td>\n",
       "      <td>12.330430</td>\n",
       "    </tr>\n",
       "    <tr>\n",
       "      <th>2940</th>\n",
       "      <td>2.850922</td>\n",
       "      <td>34.341262</td>\n",
       "      <td>3.054851</td>\n",
       "      <td>12.330430</td>\n",
       "    </tr>\n",
       "    <tr>\n",
       "      <th>2941</th>\n",
       "      <td>2.837922</td>\n",
       "      <td>34.191821</td>\n",
       "      <td>3.054782</td>\n",
       "      <td>12.330430</td>\n",
       "    </tr>\n",
       "    <tr>\n",
       "      <th>2942</th>\n",
       "      <td>2.824910</td>\n",
       "      <td>34.042371</td>\n",
       "      <td>3.054711</td>\n",
       "      <td>12.330430</td>\n",
       "    </tr>\n",
       "    <tr>\n",
       "      <th>2943</th>\n",
       "      <td>2.811887</td>\n",
       "      <td>33.892912</td>\n",
       "      <td>3.054638</td>\n",
       "      <td>12.547317</td>\n",
       "    </tr>\n",
       "  </tbody>\n",
       "</table>\n",
       "<p>2944 rows × 4 columns</p>\n",
       "</div>"
      ],
      "text/plain": [
       "             x          y     theta      speed\n",
       "0     2.811887  33.892912  3.054638  12.547317\n",
       "1     2.798863  33.743580  3.054567  12.562538\n",
       "2     2.785829  33.594237  3.054500  12.577760\n",
       "3     2.772783  33.444884  3.054437  12.592982\n",
       "4     2.759728  33.295520  3.054377  12.608203\n",
       "...        ...        ...       ...        ...\n",
       "2939  2.863912  34.490694  3.054919  12.330430\n",
       "2940  2.850922  34.341262  3.054851  12.330430\n",
       "2941  2.837922  34.191821  3.054782  12.330430\n",
       "2942  2.824910  34.042371  3.054711  12.330430\n",
       "2943  2.811887  33.892912  3.054638  12.547317\n",
       "\n",
       "[2944 rows x 4 columns]"
      ]
     },
     "execution_count": 39,
     "metadata": {},
     "output_type": "execute_result"
    }
   ],
   "source": [
    "ref_df"
   ]
  },
  {
   "cell_type": "code",
   "execution_count": 40,
   "metadata": {},
   "outputs": [],
   "source": [
    "# Overlay the racetrack on the map\n",
    "# load map yaml\n",
    "if os.path.exists(f\"/home/weins/sim_ws/src/f1tenth_gym_ros/maps/{MAP_NAME}.png\"):\n",
    "    map_img_path = f\"/home/weins/sim_ws/src/f1tenth_gym_ros/maps/{MAP_NAME}.png\"\n",
    "else:\n",
    "    raise Exception(\"Map not found!\")\n",
    "\n",
    "map_yaml_path = f\"/home/weins/sim_ws/src/f1tenth_gym_ros/maps/{MAP_NAME}.yaml\"\n",
    "with open(map_yaml_path, 'r') as yaml_stream:\n",
    "    try:\n",
    "        map_metadata = yaml.safe_load(yaml_stream)\n",
    "        map_resolution = map_metadata['resolution']\n",
    "        origin = map_metadata['origin']\n",
    "    except yaml.YAMLError as ex:\n",
    "        print(ex)\n",
    "\n",
    "# calculate map parameters\n",
    "orig_x = origin[0]\n",
    "orig_y = origin[1]\n",
    "# ??? Should be 0>\n",
    "orig_s = np.sin(origin[2])\n",
    "orig_c = np.cos(origin[2])\n",
    "\n",
    "def transf(raw):\n",
    "    # get the distance transform\n",
    "    transformed_data = raw.copy()\n",
    "    transformed_data -= np.array([orig_x, orig_y] + [0]*(len(raw.columns)-2))\n",
    "    transformed_data.iloc[:, :2] /= map_resolution\n",
    "    return transformed_data\n",
    "\n",
    "raw_map_img = np.array(Image.open(map_img_path).transpose(Image.FLIP_TOP_BOTTOM))\n",
    "raw_map_img = raw_map_img.astype(np.float64)\n",
    "\n",
    "transf_data = []\n",
    "for raw in data:\n",
    "    transf_data.append( (transf(raw[0]), raw[1], raw[2]) )"
   ]
  },
  {
   "cell_type": "code",
   "execution_count": 41,
   "metadata": {},
   "outputs": [],
   "source": [
    "# Image resolution\n",
    "size = 12"
   ]
  },
  {
   "cell_type": "code",
   "execution_count": 52,
   "metadata": {},
   "outputs": [
    {
     "data": {
      "text/plain": [
       "(-0.5, 1999.5, -0.5, 1999.5)"
      ]
     },
     "execution_count": 52,
     "metadata": {},
     "output_type": "execute_result"
    }
   ],
   "source": [
    "%matplotlib qt\n",
    "plt.figure(figsize=(size, size))\n",
    "for d, c, l in transf_data:\n",
    "    plt.plot(d.loc[:, 'x'].to_numpy(), d.loc[:, 'y'].to_numpy(), c = c, label=l) #, c=transformed_data.loc[:, i], marker=\".\", s=3)\n",
    "    #plt.scatter(d.loc[:, 'x'].to_numpy(), d.loc[:, 'y'].to_numpy(), c = c, s=2) #, c=transformed_data.loc[:, i], marker=\".\", s=3)\n",
    "#plt.scatter(transformed_data.loc[0, 'x'], transformed_data.loc[0, 'y'], c='red', marker=(3,0,transformed_data.loc[0, 'a']*180/3.1415), s=200)\n",
    "\n",
    "#plt.xlim(transf_data[0].iloc[:, 0].min() - 100, transf_data[0].iloc[:, 0].max() + 100)\n",
    "#plt.ylim(transf_data[0].iloc[:, 1].min() - 100, transf_data[0].iloc[:, 1].max() + 100)\n",
    "plt.imshow(raw_map_img, cmap='gray', origin='lower')\n",
    "plt.legend(fontsize=16)\n",
    "plt.axis('off')"
   ]
  }
 ],
 "metadata": {
  "kernelspec": {
   "display_name": "Python 3 (ipykernel)",
   "language": "python",
   "name": "python3"
  },
  "language_info": {
   "codemirror_mode": {
    "name": "ipython",
    "version": 3
   },
   "file_extension": ".py",
   "mimetype": "text/x-python",
   "name": "python",
   "nbconvert_exporter": "python",
   "pygments_lexer": "ipython3",
   "version": "3.10.12"
  },
  "vscode": {
   "interpreter": {
    "hash": "381290da32b60e2c17207d9de4c49c39b70dfb44a27fce5ca88a47d8a5e39cb3"
   }
  }
 },
 "nbformat": 4,
 "nbformat_minor": 4
}
